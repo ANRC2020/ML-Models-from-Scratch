{
 "cells": [
  {
   "cell_type": "code",
   "execution_count": 1,
   "metadata": {},
   "outputs": [],
   "source": [
    "import torch\n",
    "import numpy as np\n",
    "import random as rand\n",
    "import matplotlib.pyplot as plt\n",
    "from sklearn.model_selection import train_test_split"
   ]
  },
  {
   "cell_type": "code",
   "execution_count": 2,
   "metadata": {},
   "outputs": [
    {
     "data": {
      "image/png": "[encoded data removed]",
      "text/plain": [
       "<Figure size 432x288 with 1 Axes>"
      ]
     },
     "metadata": {
      "needs_background": "light"
     },
     "output_type": "display_data"
    }
   ],
   "source": [
    "x_points = []\n",
    "y_points = []\n",
    "\n",
    "for i in range(100):\n",
    "    x_points.append(float(i))\n",
    "    y_points.append(rand.uniform(x_points[-1], 2*x_points[-1]))\n",
    "\n",
    "\n",
    "plt.plot(x_points, y_points, \"o\")\n",
    "plt.show()"
   ]
  },
  {
   "cell_type": "code",
   "execution_count": 3,
   "metadata": {},
   "outputs": [],
   "source": [
    "# Split data into training and validation sets\n",
    "\n",
    "X_train, X_test, y_train, y_test = train_test_split(x_points, y_points, test_size=0.3, random_state=42)"
   ]
  },
  {
   "cell_type": "code",
   "execution_count": 4,
   "metadata": {},
   "outputs": [],
   "source": [
    "# Now that we've generated some points at random, its time to use torch \n",
    "# to execute linear regression\n",
    "\n",
    "X_train = torch.tensor(X_train)\n",
    "y_train = torch.tensor(y_train)\n",
    "\n",
    "X_test = torch.tensor(X_test)\n",
    "y_test = torch.tensor(y_test)"
   ]
  },
  {
   "cell_type": "code",
   "execution_count": 25,
   "metadata": {},
   "outputs": [
    {
     "name": "stdout",
     "output_type": "stream",
     "text": [
      "Iteration 1: b = 1.2149157524108887, intercept = 1.003265142440796, Loss = 68880.1015625\n",
      "tensor([  -3265.0952, -214915.6875])\n",
      "Iteration 2: b = 1.3273184299468994, intercept = 1.0050047636032104, Loss = 33699.0\n",
      "tensor([  -1739.5962, -112402.6406])\n",
      "Iteration 3: b = 1.3861056566238403, intercept = 1.0059465169906616, Loss = 24075.564453125\n",
      "tensor([  -941.7431, -58787.2539])\n",
      "Iteration 4: b = 1.41685152053833, intercept = 1.0064709186553955, Loss = 21443.171875\n",
      "tensor([  -524.4573, -30745.8984])\n",
      "Iteration 5: b = 1.4329315423965454, intercept = 1.0067771673202515, Loss = 20723.10546875\n",
      "tensor([  -306.2111, -16079.9678])\n",
      "Iteration 6: b = 1.4413410425186157, intercept = 1.0069692134857178, Loss = 20526.1328125\n",
      "tensor([ -192.0645, -8409.4902])\n",
      "Iteration 7: b = 1.4457387924194336, intercept = 1.0071015357971191, Loss = 20472.251953125\n",
      "tensor([ -132.3638, -4397.7656])\n",
      "Iteration 8: b = 1.4480384588241577, intercept = 1.0072026252746582, Loss = 20457.5078125\n",
      "tensor([ -101.1386, -2299.6074])\n",
      "Iteration 9: b = 1.4492406845092773, intercept = 1.0072873830795288, Loss = 20453.474609375\n",
      "tensor([  -84.8061, -1202.2129])\n",
      "Iteration 10: b = 1.44986891746521, intercept = 1.0073636770248413, Loss = 20452.365234375\n",
      "tensor([ -76.2632, -628.2837])\n",
      "Iteration 11: b = 1.4501971006393433, intercept = 1.0074354410171509, Loss = 20452.05859375\n",
      "tensor([ -71.7947, -328.1509])\n",
      "Iteration 12: b = 1.4503682851791382, intercept = 1.007504940032959, Loss = 20451.970703125\n",
      "tensor([ -69.4557, -171.1343])\n",
      "Iteration 13: b = 1.4504573345184326, intercept = 1.007573127746582, Loss = 20451.9453125\n",
      "tensor([-68.2311, -88.9971])\n",
      "Iteration 14: b = 1.4505033493041992, intercept = 1.0076407194137573, Loss = 20451.931640625\n",
      "tensor([-67.5898, -46.0562])\n",
      "Iteration 15: b = 1.4505269527435303, intercept = 1.007707953453064, Loss = 20451.9296875\n",
      "tensor([-67.2540, -23.6460])\n",
      "Iteration 16: b = 1.4505388736724854, intercept = 1.007775068283081, Loss = 20451.92578125\n",
      "tensor([-67.0771, -11.9155])\n",
      "Iteration 17: b = 1.4505445957183838, intercept = 1.0078420639038086, Loss = 20451.91796875\n",
      "tensor([-66.9829,  -5.7329])\n",
      "Iteration 18: b = 1.4505470991134644, intercept = 1.0079089403152466, Loss = 20451.916015625\n",
      "tensor([-66.9329,  -2.5317])\n",
      "Iteration 19: b = 1.4505479335784912, intercept = 1.0079758167266846, Loss = 20451.908203125\n",
      "tensor([-66.9059,  -0.8726])\n",
      "Iteration 20: b = 1.4505479335784912, intercept = 1.0080426931381226, Loss = 20451.90625\n",
      "tensor([-6.6891e+01, -3.9062e-03])\n",
      "Iteration 21: b = 1.450547456741333, intercept = 1.0081095695495605, Loss = 20451.900390625\n",
      "tensor([-66.8814,   0.4722])\n",
      "Iteration 22: b = 1.4505467414855957, intercept = 1.0081764459609985, Loss = 20451.89453125\n",
      "tensor([-66.8753,   0.7134])\n",
      "Iteration 23: b = 1.4505459070205688, intercept = 1.0082433223724365, Loss = 20451.892578125\n",
      "tensor([-66.8708,   0.8711])\n",
      "Iteration 24: b = 1.4505449533462524, intercept = 1.0083101987838745, Loss = 20451.88671875\n",
      "tensor([-66.8678,   0.9185])\n",
      "Iteration 25: b = 1.450543999671936, intercept = 1.0083770751953125, Loss = 20451.8828125\n",
      "tensor([-66.8650,   0.9541])\n",
      "Iteration 26: b = 1.4505430459976196, intercept = 1.0084439516067505, Loss = 20451.87890625\n",
      "tensor([-66.8624,   0.9692])\n",
      "Iteration 27: b = 1.4505420923233032, intercept = 1.0085108280181885, Loss = 20451.873046875\n",
      "tensor([-66.8597,   0.9897])\n",
      "Iteration 28: b = 1.4505410194396973, intercept = 1.0085777044296265, Loss = 20451.87109375\n",
      "tensor([-66.8569,   1.0317])\n",
      "Iteration 29: b = 1.4505400657653809, intercept = 1.0086445808410645, Loss = 20451.865234375\n",
      "tensor([-66.8556,   0.9648])\n",
      "Iteration 30: b = 1.4505391120910645, intercept = 1.0087114572525024, Loss = 20451.861328125\n",
      "tensor([-66.8527,   1.0098])\n",
      "Iteration 31: b = 1.4505380392074585, intercept = 1.0087783336639404, Loss = 20451.857421875\n",
      "tensor([-66.8501,   1.0205])\n",
      "Iteration 32: b = 1.450537085533142, intercept = 1.0088452100753784, Loss = 20451.849609375\n",
      "tensor([-66.8484,   0.9790])\n",
      "Iteration 33: b = 1.4505361318588257, intercept = 1.0089120864868164, Loss = 20451.84765625\n",
      "tensor([-66.8459,   0.9927])\n",
      "Iteration 34: b = 1.4505350589752197, intercept = 1.0089789628982544, Loss = 20451.84375\n",
      "tensor([-66.8433,   1.0142])\n",
      "Iteration 35: b = 1.4505341053009033, intercept = 1.0090458393096924, Loss = 20451.837890625\n",
      "tensor([-66.8415,   0.9727])\n",
      "Iteration 36: b = 1.450533151626587, intercept = 1.0091127157211304, Loss = 20451.833984375\n",
      "tensor([-66.8387,   1.0103])\n",
      "Iteration 37: b = 1.4505321979522705, intercept = 1.0091795921325684, Loss = 20451.830078125\n",
      "tensor([-66.8365,   1.0044])\n",
      "Iteration 38: b = 1.4505311250686646, intercept = 1.0092464685440063, Loss = 20451.82421875\n",
      "tensor([-66.8337,   1.0454])\n",
      "Iteration 39: b = 1.4505301713943481, intercept = 1.0093133449554443, Loss = 20451.8203125\n",
      "tensor([-66.8319,   1.0093])\n",
      "Iteration 40: b = 1.4505290985107422, intercept = 1.0093802213668823, Loss = 20451.81640625\n",
      "tensor([-66.8293,   1.0278])\n",
      "Iteration 41: b = 1.4505281448364258, intercept = 1.0094470977783203, Loss = 20451.8125\n",
      "tensor([-66.8278,   0.9775])\n",
      "Iteration 42: b = 1.4505271911621094, intercept = 1.0095139741897583, Loss = 20451.806640625\n",
      "tensor([-66.8252,   0.9912])\n",
      "Iteration 43: b = 1.4505261182785034, intercept = 1.0095808506011963, Loss = 20451.802734375\n",
      "tensor([-66.8223,   1.0366])\n",
      "Iteration 44: b = 1.450525164604187, intercept = 1.0096477270126343, Loss = 20451.796875\n",
      "tensor([-66.8205,   0.9985])\n",
      "Iteration 45: b = 1.450524091720581, intercept = 1.0097146034240723, Loss = 20451.79296875\n",
      "tensor([-66.8180,   1.0142])\n",
      "Iteration 46: b = 1.4505231380462646, intercept = 1.0097813606262207, Loss = 20451.7890625\n",
      "tensor([-66.8164,   0.9736])\n",
      "Iteration 47: b = 1.4505221843719482, intercept = 1.0098481178283691, Loss = 20451.78515625\n",
      "tensor([-66.8139,   0.9834])\n",
      "Iteration 48: b = 1.4505212306976318, intercept = 1.0099148750305176, Loss = 20451.78125\n",
      "tensor([-66.8112,   1.0059])\n",
      "Iteration 49: b = 1.4505201578140259, intercept = 1.009981632232666, Loss = 20451.775390625\n",
      "tensor([-66.8084,   1.0479])\n",
      "Iteration 50: b = 1.4505192041397095, intercept = 1.0100483894348145, Loss = 20451.76953125\n",
      "tensor([-66.8071,   0.9751])\n",
      "Iteration 51: b = 1.4505181312561035, intercept = 1.010115146636963, Loss = 20451.765625\n",
      "tensor([-66.8042,   1.0195])\n",
      "Iteration 52: b = 1.450517177581787, intercept = 1.0101819038391113, Loss = 20451.76171875\n",
      "tensor([-66.8025,   0.9761])\n",
      "Iteration 53: b = 1.4505162239074707, intercept = 1.0102486610412598, Loss = 20451.755859375\n",
      "tensor([-66.7999,   0.9951])\n",
      "Iteration 54: b = 1.4505152702331543, intercept = 1.0103154182434082, Loss = 20451.755859375\n",
      "tensor([-66.7974,   1.0107])\n",
      "Iteration 55: b = 1.4505141973495483, intercept = 1.0103821754455566, Loss = 20451.748046875\n",
      "tensor([-66.7949,   1.0254])\n",
      "Iteration 56: b = 1.450513243675232, intercept = 1.010448932647705, Loss = 20451.74609375\n",
      "tensor([-66.7931,   0.9863])\n",
      "Iteration 57: b = 1.450512170791626, intercept = 1.0105156898498535, Loss = 20451.7421875\n",
      "tensor([-66.7903,   1.0264])\n",
      "Iteration 58: b = 1.4505112171173096, intercept = 1.010582447052002, Loss = 20451.73828125\n",
      "tensor([-66.7890,   0.9595])\n",
      "Iteration 59: b = 1.4505102634429932, intercept = 1.0106492042541504, Loss = 20451.734375\n",
      "tensor([-66.7861,   1.0000])\n",
      "Iteration 60: b = 1.4505091905593872, intercept = 1.0107159614562988, Loss = 20451.7265625\n",
      "tensor([-66.7835,   1.0166])\n",
      "Iteration 61: b = 1.4505082368850708, intercept = 1.0107827186584473, Loss = 20451.72265625\n",
      "tensor([-66.7818,   0.9746])\n",
      "Iteration 62: b = 1.4505072832107544, intercept = 1.0108494758605957, Loss = 20451.71875\n",
      "tensor([-66.7794,   0.9868])\n",
      "Iteration 63: b = 1.450506329536438, intercept = 1.0109162330627441, Loss = 20451.71484375\n",
      "tensor([-66.7768,   1.0078])\n",
      "Iteration 64: b = 1.450505256652832, intercept = 1.0109829902648926, Loss = 20451.70703125\n",
      "tensor([-66.7742,   1.0269])\n",
      "Iteration 65: b = 1.4505043029785156, intercept = 1.011049747467041, Loss = 20451.70703125\n",
      "tensor([-66.7722,   1.0063])\n",
      "Iteration 66: b = 1.4505033493041992, intercept = 1.0111165046691895, Loss = 20451.69921875\n",
      "tensor([-66.7700,   0.9937])\n",
      "Iteration 67: b = 1.4505022764205933, intercept = 1.011183261871338, Loss = 20451.697265625\n",
      "tensor([-66.7672,   1.0366])\n",
      "Iteration 68: b = 1.4505013227462769, intercept = 1.0112500190734863, Loss = 20451.69140625\n",
      "tensor([-66.7654,   0.9966])\n",
      "Iteration 69: b = 1.4505003690719604, intercept = 1.0113167762756348, Loss = 20451.685546875\n",
      "tensor([-66.7629,   1.0117])\n",
      "Iteration 70: b = 1.4504992961883545, intercept = 1.0113835334777832, Loss = 20451.681640625\n",
      "tensor([-66.7605,   1.0220])\n",
      "Iteration 71: b = 1.450498342514038, intercept = 1.0114502906799316, Loss = 20451.6796875\n",
      "tensor([-66.7587,   0.9873])\n",
      "Iteration 72: b = 1.4504973888397217, intercept = 1.01151704788208, Loss = 20451.673828125\n",
      "tensor([-66.7561,   1.0020])\n",
      "Iteration 73: b = 1.4504963159561157, intercept = 1.0115838050842285, Loss = 20451.669921875\n",
      "tensor([-66.7533,   1.0469])\n",
      "Iteration 74: b = 1.4504953622817993, intercept = 1.011650562286377, Loss = 20451.6640625\n",
      "tensor([-66.7519,   0.9741])\n",
      "Iteration 75: b = 1.4504942893981934, intercept = 1.0117173194885254, Loss = 20451.662109375\n",
      "tensor([-66.7491,   1.0151])\n",
      "Iteration 76: b = 1.450493335723877, intercept = 1.0117840766906738, Loss = 20451.654296875\n",
      "tensor([-66.7473,   0.9839])\n",
      "Iteration 77: b = 1.4504923820495605, intercept = 1.0118508338928223, Loss = 20451.65234375\n",
      "tensor([-66.7448,   0.9922])\n",
      "Iteration 78: b = 1.4504914283752441, intercept = 1.0119175910949707, Loss = 20451.646484375\n",
      "tensor([-66.7423,   1.0127])\n",
      "Iteration 79: b = 1.4504903554916382, intercept = 1.0119843482971191, Loss = 20451.64453125\n",
      "tensor([-66.7398,   1.0244])\n",
      "Iteration 80: b = 1.4504894018173218, intercept = 1.0120511054992676, Loss = 20451.634765625\n",
      "tensor([-66.7380,   0.9878])\n",
      "Iteration 81: b = 1.4504883289337158, intercept = 1.012117862701416, Loss = 20451.6328125\n",
      "tensor([-66.7352,   1.0293])\n",
      "Iteration 82: b = 1.4504873752593994, intercept = 1.0121846199035645, Loss = 20451.62890625\n",
      "tensor([-66.7338,   0.9570])\n",
      "Iteration 83: b = 1.450486421585083, intercept = 1.012251377105713, Loss = 20451.625\n",
      "tensor([-66.7310,   1.0015])\n",
      "Iteration 84: b = 1.450485348701477, intercept = 1.0123181343078613, Loss = 20451.62109375\n",
      "tensor([-66.7284,   1.0171])\n",
      "Iteration 85: b = 1.4504843950271606, intercept = 1.0123848915100098, Loss = 20451.61328125\n",
      "tensor([-66.7266,   0.9829])\n",
      "Iteration 86: b = 1.4504834413528442, intercept = 1.0124516487121582, Loss = 20451.61328125\n",
      "tensor([-66.7241,   0.9956])\n",
      "Iteration 87: b = 1.4504824876785278, intercept = 1.0125184059143066, Loss = 20451.60546875\n",
      "tensor([-66.7217,   1.0063])\n",
      "Iteration 88: b = 1.4504814147949219, intercept = 1.012585163116455, Loss = 20451.599609375\n",
      "tensor([-66.7190,   1.0254])\n",
      "Iteration 89: b = 1.4504804611206055, intercept = 1.0126519203186035, Loss = 20451.595703125\n",
      "tensor([-66.7171,   1.0073])\n",
      "Iteration 90: b = 1.450479507446289, intercept = 1.012718677520752, Loss = 20451.591796875\n",
      "tensor([-66.7149,   0.9971])\n",
      "Iteration 91: b = 1.450478434562683, intercept = 1.0127854347229004, Loss = 20451.58984375\n",
      "tensor([-66.7120,   1.0376])\n",
      "Iteration 92: b = 1.4504774808883667, intercept = 1.0128521919250488, Loss = 20451.583984375\n",
      "tensor([-66.7103,   0.9971])\n",
      "Iteration 93: b = 1.4504764080047607, intercept = 1.0129189491271973, Loss = 20451.580078125\n",
      "tensor([-66.7077,   1.0195])\n",
      "Iteration 94: b = 1.4504754543304443, intercept = 1.0129857063293457, Loss = 20451.578125\n",
      "tensor([-66.7062,   0.9717])\n",
      "Iteration 95: b = 1.450474500656128, intercept = 1.0130524635314941, Loss = 20451.5703125\n",
      "tensor([-66.7036,   0.9849])\n",
      "Iteration 96: b = 1.4504735469818115, intercept = 1.0131192207336426, Loss = 20451.564453125\n",
      "tensor([-66.7010,   1.0039])\n",
      "Iteration 97: b = 1.4504724740982056, intercept = 1.013185977935791, Loss = 20451.5625\n",
      "tensor([-66.6981,   1.0444])\n",
      "Iteration 98: b = 1.4504715204238892, intercept = 1.01325261592865, Loss = 20451.55859375\n",
      "tensor([-66.6968,   0.9775])\n",
      "Iteration 99: b = 1.4504704475402832, intercept = 1.0133192539215088, Loss = 20451.552734375\n",
      "tensor([-66.6940,   1.0137])\n",
      "Iteration 100: b = 1.4504694938659668, intercept = 1.0133858919143677, Loss = 20451.548828125\n",
      "tensor([-66.6922,   0.9824])\n",
      "Optimal b: 1.4504694938659668 Optimal intercept: 1.0133858919143677\n"
     ]
    }
   ],
   "source": [
    "# Helper function for finding the optimal b\n",
    "def grad_descent(y, b, lr=0.000001):  # Reduced learning rate\n",
    "    grad = torch.autograd.grad(y, b)[0]\n",
    "\n",
    "    return b - lr * grad, grad\n",
    "\n",
    "# Helper function for representing the objective function\n",
    "def obj_fun(b):\n",
    "    # Mean squared error\n",
    "    y_pred = X_train * b[1] + b[0]  # Linear regression equation with intercept and slope\n",
    "    return torch.sum((y_pred - y_train) ** 2)\n",
    "\n",
    "# Initial guess for b\n",
    "b = torch.tensor([1.0, 1.0], requires_grad=True)\n",
    "\n",
    "# Optimization loop\n",
    "for i in range(100):  # Increased the number of iterations for better convergence\n",
    "    loss = obj_fun(b)\n",
    "    b, grad = grad_descent(loss, b)\n",
    "    print(f\"Iteration {i+1}: b = {b[1].item()}, intercept = {b[0].item()}, Loss = {loss.item()}\")\n",
    "    print(grad)\n",
    "\n",
    "# Final result\n",
    "print(\"Optimal b:\", b[1].item(), \"Optimal intercept:\", b[0].item())"
   ]
  },
  {
   "cell_type": "code",
   "execution_count": 23,
   "metadata": {},
   "outputs": [],
   "source": [
    "# Define the regression function\n",
    "\n",
    "def regression_line(alpha, beta, x_values):\n",
    "\n",
    "    y_pred = []\n",
    "\n",
    "    for x in x_values:\n",
    "        y_pred.append(alpha*x + beta)\n",
    "\n",
    "    return y_pred"
   ]
  },
  {
   "cell_type": "code",
   "execution_count": 26,
   "metadata": {},
   "outputs": [
    {
     "data": {
      "image/png": "[encoded data removed]",
      "text/plain": [
       "<Figure size 432x288 with 1 Axes>"
      ]
     },
     "metadata": {
      "needs_background": "light"
     },
     "output_type": "display_data"
    }
   ],
   "source": [
    "# Call the function and get y_pred\n",
    "\n",
    "y_pred  = regression_line(float(b[1]), float(b[0]), X_train)\n",
    "\n",
    "plt.plot(X_train, y_train, \"o\", color=\"blue\")\n",
    "plt.plot(X_train, y_pred, \"o\", color=\"red\")\n",
    "\n",
    "plt.show()"
   ]
  },
  {
   "cell_type": "code",
   "execution_count": 29,
   "metadata": {},
   "outputs": [
    {
     "data": {
      "image/png": "[encoded data removed]",
      "text/plain": [
       "<Figure size 432x288 with 1 Axes>"
      ]
     },
     "metadata": {
      "needs_background": "light"
     },
     "output_type": "display_data"
    }
   ],
   "source": [
    "# Call the function and get y_pred\n",
    "\n",
    "y_pred  = regression_line(float(b[1]), float(b[0]), X_test)\n",
    "\n",
    "plt.plot(X_test, y_test, \"o\", color=\"blue\")\n",
    "plt.plot(X_test, y_pred, \"o\", color=\"red\")\n",
    "\n",
    "plt.show()"
   ]
  },
  {
   "cell_type": "code",
   "execution_count": 30,
   "metadata": {},
   "outputs": [],
   "source": [
    "# Lets calculate the mean squared error\n",
    "\n",
    "def MSE(y_pred, y_true):\n",
    "\n",
    "    residuals = 0\n",
    "\n",
    "    for i in range(len(y_pred)):\n",
    "        residuals += (y_pred[i] - y_true[i])**2\n",
    "\n",
    "    return residuals/len(y_pred)"
   ]
  },
  {
   "cell_type": "code",
   "execution_count": 31,
   "metadata": {},
   "outputs": [
    {
     "data": {
      "text/plain": [
       "tensor(148.5726)"
      ]
     },
     "execution_count": 31,
     "metadata": {},
     "output_type": "execute_result"
    }
   ],
   "source": [
    "MSE(y_pred, y_test)"
   ]
  },
  {
   "cell_type": "code",
   "execution_count": 33,
   "metadata": {},
   "outputs": [
    {
     "data": {
      "text/plain": [
       "[<matplotlib.lines.Line2D at 0x15ad3a51820>]"
      ]
     },
     "execution_count": 33,
     "metadata": {},
     "output_type": "execute_result"
    },
    {
     "data": {
      "image/png": "[encoded data removed]",
      "text/plain": [
       "<Figure size 432x288 with 1 Axes>"
      ]
     },
     "metadata": {
      "needs_background": "light"
     },
     "output_type": "display_data"
    }
   ],
   "source": [
    "plt.plot(y_test, y_pred, \"o\")"
   ]
  },
  {
   "cell_type": "code",
   "execution_count": null,
   "metadata": {},
   "outputs": [],
   "source": []
  }
 ],
 "metadata": {
  "kernelspec": {
   "display_name": "Python 3",
   "language": "python",
   "name": "python3"
  },
  "language_info": {
   "codemirror_mode": {
    "name": "ipython",
    "version": 3
   },
   "file_extension": ".py",
   "mimetype": "text/x-python",
   "name": "python",
   "nbconvert_exporter": "python",
   "pygments_lexer": "ipython3",
   "version": "3.9.13"
  }
 },
 "nbformat": 4,
 "nbformat_minor": 2
}
