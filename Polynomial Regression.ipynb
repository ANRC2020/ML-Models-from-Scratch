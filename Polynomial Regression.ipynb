{
 "cells": [
  {
   "cell_type": "code",
   "execution_count": 3,
   "metadata": {},
   "outputs": [],
   "source": [
    "import torch\n",
    "import numpy as np\n",
    "import random as rand\n",
    "import matplotlib.pyplot as plt\n",
    "from sklearn.model_selection import train_test_split\n",
    "from math import sin"
   ]
  },
  {
   "cell_type": "code",
   "execution_count": 9,
   "metadata": {},
   "outputs": [
    {
     "data": {
      "image/png": "[encoded data removed]",
      "text/plain": [
       "<Figure size 432x288 with 1 Axes>"
      ]
     },
     "metadata": {
      "needs_background": "light"
     },
     "output_type": "display_data"
    }
   ],
   "source": [
    "x1_points = []\n",
    "x2_points = []\n",
    "y_points = []\n",
    "\n",
    "for i in range(100):\n",
    "    x1_points.append(float(i))\n",
    "    x2_points.append(sin(float(i)))\n",
    "    y_points.append(rand.uniform(x1_points[-1], x2_points[-1]*x1_points[-1]))\n",
    "\n",
    "\n",
    "plt.plot(x1_points, y_points, \"o\")\n",
    "plt.show()"
   ]
  },
  {
   "cell_type": "code",
   "execution_count": 11,
   "metadata": {},
   "outputs": [],
   "source": [
    "# Lets create a new joint x_points list\n",
    "\n",
    "x_points = []\n",
    "\n",
    "for i in range(len(x1_points)):\n",
    "    x_points.append([x1_points[i], x2_points[i]])"
   ]
  },
  {
   "cell_type": "code",
   "execution_count": 12,
   "metadata": {},
   "outputs": [],
   "source": [
    "# Split data into training and validation sets\n",
    "\n",
    "X_train, X_test, y_train, y_test = train_test_split(x_points, y_points, test_size=0.3, random_state=42)\n"
   ]
  },
  {
   "cell_type": "code",
   "execution_count": 13,
   "metadata": {},
   "outputs": [],
   "source": [
    "# Now that we've generated some points at random, its time to use torch \n",
    "# to execute linear regression\n",
    "\n",
    "X_train = torch.tensor(X_train)\n",
    "y_train = torch.tensor(y_train)\n",
    "\n",
    "X_test = torch.tensor(X_test)\n",
    "y_test = torch.tensor(y_test)"
   ]
  },
  {
   "cell_type": "code",
   "execution_count": 15,
   "metadata": {},
   "outputs": [
    {
     "data": {
      "text/plain": [
       "(tensor(0.0757), tensor(0.0183), tensor(18.8824))"
      ]
     },
     "execution_count": 15,
     "metadata": {},
     "output_type": "execute_result"
    }
   ],
   "source": [
    "# Solve for alpha and beta in Bivariate regression \n",
    "\n",
    "alpha_1 = 0\n",
    "alpha_2 = 0\n",
    "\n",
    "run_num_1 = 0\n",
    "run_den_1 = 0\n",
    "run_num_2 = 0\n",
    "run_den_2 = 0\n",
    "\n",
    "for i, x in enumerate(X_train):\n",
    "    run_num_1 += (x[0] - torch.mean(X_train[0])) * (y_train[i] - torch.mean(y_train))\n",
    "    run_den_1 += (x[0] - torch.mean(X_train[0]))**2\n",
    "\n",
    "    run_num_2 += (x[1] - torch.mean(X_train[1])) * (y_train[i] - torch.mean(y_train))\n",
    "    run_den_2 += (x[1] - torch.mean(X_train[1]))**2\n",
    "\n",
    "alpha_1 = run_num_1/run_den_1\n",
    "alpha_2 = run_num_2/run_den_2\n",
    "\n",
    "beta = torch.mean(y_train) - alpha_1*torch.mean(X_train) - alpha_2*torch.mean(X_train)\n",
    "\n",
    "alpha_1, alpha_2, beta"
   ]
  },
  {
   "cell_type": "code",
   "execution_count": 16,
   "metadata": {},
   "outputs": [],
   "source": [
    "# Define the regression function\n",
    "\n",
    "def regression_line(alpha_1, alpha_2, beta, x_values):\n",
    "\n",
    "    y_pred = []\n",
    "\n",
    "    for x in x_values:\n",
    "\n",
    "        # First Try\n",
    "        y_pred.append(alpha_1*x[0] + alpha_2*x[1] + beta)\n",
    "        \n",
    "\n",
    "    return y_pred"
   ]
  },
  {
   "cell_type": "code",
   "execution_count": 17,
   "metadata": {},
   "outputs": [
    {
     "data": {
      "image/png": "[encoded data removed]",
      "text/plain": [
       "<Figure size 432x288 with 1 Axes>"
      ]
     },
     "metadata": {
      "needs_background": "light"
     },
     "output_type": "display_data"
    }
   ],
   "source": [
    "# Call the function and get y_pred\n",
    "\n",
    "y_pred  = regression_line(alpha_1, alpha_2, beta, X_train)\n",
    "\n",
    "plt.plot(X_train, y_train, \"o\", color=\"blue\")\n",
    "plt.plot(X_train, y_pred, \"o\", color=\"red\")\n",
    "\n",
    "plt.show()"
   ]
  },
  {
   "cell_type": "code",
   "execution_count": 18,
   "metadata": {},
   "outputs": [
    {
     "data": {
      "image/png": "[encoded data removed]",
      "text/plain": [
       "<Figure size 432x288 with 1 Axes>"
      ]
     },
     "metadata": {
      "needs_background": "light"
     },
     "output_type": "display_data"
    }
   ],
   "source": [
    "# Time to see ho well it abstracts to unseen data\n",
    "\n",
    "y_pred  = regression_line(alpha_1, alpha_2, beta, X_test)\n",
    "\n",
    "plt.plot(X_test, y_test, \"o\", color=\"blue\")\n",
    "plt.plot(X_test, y_pred, \"o\", color=\"red\")\n",
    "\n",
    "plt.show()"
   ]
  },
  {
   "cell_type": "markdown",
   "metadata": {},
   "source": [
    "Looks like it did a fairly decent job of approximating this linearly generated set, which we expected. We can try experimenting how well it will work for other forms of data"
   ]
  },
  {
   "cell_type": "code",
   "execution_count": 19,
   "metadata": {},
   "outputs": [],
   "source": [
    "# Lets calculate the mean squared error\n",
    "\n",
    "def MSE(y_pred, y_true):\n",
    "\n",
    "    residuals = 0\n",
    "\n",
    "    for i in range(len(y_pred)):\n",
    "        residuals += (y_pred[i] - y_true[i])**2\n",
    "\n",
    "    return residuals/len(y_pred)"
   ]
  },
  {
   "cell_type": "code",
   "execution_count": 20,
   "metadata": {},
   "outputs": [
    {
     "data": {
      "text/plain": [
       "tensor(951.4411)"
      ]
     },
     "execution_count": 20,
     "metadata": {},
     "output_type": "execute_result"
    }
   ],
   "source": [
    "MSE(y_pred, y_test)"
   ]
  },
  {
   "cell_type": "code",
   "execution_count": null,
   "metadata": {},
   "outputs": [],
   "source": []
  }
 ],
 "metadata": {
  "kernelspec": {
   "display_name": "Python 3",
   "language": "python",
   "name": "python3"
  },
  "language_info": {
   "codemirror_mode": {
    "name": "ipython",
    "version": 3
   },
   "file_extension": ".py",
   "mimetype": "text/x-python",
   "name": "python",
   "nbconvert_exporter": "python",
   "pygments_lexer": "ipython3",
   "version": "3.9.13"
  }
 },
 "nbformat": 4,
 "nbformat_minor": 2
}
