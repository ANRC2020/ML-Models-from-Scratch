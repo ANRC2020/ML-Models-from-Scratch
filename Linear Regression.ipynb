{
 "cells": [
  {
   "cell_type": "code",
   "execution_count": 75,
   "metadata": {},
   "outputs": [],
   "source": [
    "import torch\n",
    "import numpy as np\n",
    "import random as rand\n",
    "import matplotlib.pyplot as plt\n",
    "from sklearn.model_selection import train_test_split"
   ]
  },
  {
   "cell_type": "code",
   "execution_count": 76,
   "metadata": {},
   "outputs": [
    {
     "data": {
      "image/png": "[encoded data removed]",
      "text/plain": [
       "<Figure size 432x288 with 1 Axes>"
      ]
     },
     "metadata": {
      "needs_background": "light"
     },
     "output_type": "display_data"
    }
   ],
   "source": [
    "x_points = []\n",
    "y_points = []\n",
    "\n",
    "for i in range(100):\n",
    "    x_points.append(float(i))\n",
    "    y_points.append(rand.uniform(x_points[-1], 2*x_points[-1]))\n",
    "\n",
    "\n",
    "plt.plot(x_points, y_points, \"o\")\n",
    "plt.show()"
   ]
  },
  {
   "cell_type": "code",
   "execution_count": 77,
   "metadata": {},
   "outputs": [],
   "source": [
    "# Split data into training and validation sets\n",
    "\n",
    "X_train, X_test, y_train, y_test = train_test_split(x_points, y_points, test_size=0.3, random_state=42)\n"
   ]
  },
  {
   "cell_type": "code",
   "execution_count": 78,
   "metadata": {},
   "outputs": [],
   "source": [
    "# Now that we've generated some points at random, its time to use torch \n",
    "# to execute linear regression\n",
    "\n",
    "X_train = torch.tensor(X_train)\n",
    "y_train = torch.tensor(y_train)\n",
    "\n",
    "X_test = torch.tensor(X_test)\n",
    "y_test = torch.tensor(y_test)"
   ]
  },
  {
   "cell_type": "code",
   "execution_count": 79,
   "metadata": {},
   "outputs": [
    {
     "data": {
      "text/plain": [
       "(tensor(1.6045), tensor(-3.5079))"
      ]
     },
     "execution_count": 79,
     "metadata": {},
     "output_type": "execute_result"
    }
   ],
   "source": [
    "# Solve for alpha and beta in Bivariate regression \n",
    "\n",
    "alpha = 0\n",
    "\n",
    "run_num = 0\n",
    "run_den = 0\n",
    "\n",
    "for i, x in enumerate(X_train):\n",
    "    run_num += (x - torch.mean(X_train)) * (y_train[i] - torch.mean(y_train))\n",
    "    run_den += (x - torch.mean(X_train))**2\n",
    "\n",
    "alpha = run_num/run_den\n",
    "\n",
    "beta = torch.mean(y_train) - alpha*torch.mean(X_train)\n",
    "\n",
    "alpha, beta"
   ]
  },
  {
   "cell_type": "code",
   "execution_count": 80,
   "metadata": {},
   "outputs": [],
   "source": [
    "# Define the regression function\n",
    "\n",
    "def regression_line(alpha, beta, x_values):\n",
    "\n",
    "    y_pred = []\n",
    "\n",
    "    for x in x_values:\n",
    "        y_pred.append(alpha*x + beta)\n",
    "\n",
    "    return y_pred"
   ]
  },
  {
   "cell_type": "code",
   "execution_count": 81,
   "metadata": {},
   "outputs": [
    {
     "data": {
      "image/png": "[encoded data removed]",
      "text/plain": [
       "<Figure size 432x288 with 1 Axes>"
      ]
     },
     "metadata": {
      "needs_background": "light"
     },
     "output_type": "display_data"
    }
   ],
   "source": [
    "# Call the function and get y_pred\n",
    "\n",
    "y_pred  = regression_line(alpha, beta, X_train)\n",
    "\n",
    "plt.plot(X_train, y_train, \"o\", color=\"blue\")\n",
    "plt.plot(X_train, y_pred, \"o\", color=\"red\")\n",
    "\n",
    "plt.show()"
   ]
  },
  {
   "cell_type": "code",
   "execution_count": 82,
   "metadata": {},
   "outputs": [
    {
     "data": {
      "image/png": "[encoded data removed]",
      "text/plain": [
       "<Figure size 432x288 with 1 Axes>"
      ]
     },
     "metadata": {
      "needs_background": "light"
     },
     "output_type": "display_data"
    }
   ],
   "source": [
    "# Time to see ho well it abstracts to unseen data\n",
    "\n",
    "y_pred  = regression_line(alpha, beta, X_test)\n",
    "\n",
    "plt.plot(X_test, y_test, \"o\", color=\"blue\")\n",
    "plt.plot(X_test, y_pred, \"o\", color=\"red\")\n",
    "\n",
    "plt.show()"
   ]
  },
  {
   "cell_type": "markdown",
   "metadata": {},
   "source": [
    "Looks like it did a fairly decent job of approximating this linearly generated set, which we expected. We can try experimenting how well it will work for other forms of data"
   ]
  },
  {
   "cell_type": "code",
   "execution_count": 83,
   "metadata": {},
   "outputs": [],
   "source": [
    "# Lets calculate the mean squared error\n",
    "\n",
    "def MSE(y_pred, y_true):\n",
    "\n",
    "    residuals = 0\n",
    "\n",
    "    for i in range(len(y_pred)):\n",
    "        residuals += (y_pred[i] - y_true[i])**2\n",
    "\n",
    "    return residuals/len(y_pred)"
   ]
  },
  {
   "cell_type": "code",
   "execution_count": 84,
   "metadata": {},
   "outputs": [
    {
     "data": {
      "text/plain": [
       "tensor(199.6128)"
      ]
     },
     "execution_count": 84,
     "metadata": {},
     "output_type": "execute_result"
    }
   ],
   "source": [
    "MSE(y_pred, y_test)"
   ]
  },
  {
   "cell_type": "code",
   "execution_count": null,
   "metadata": {},
   "outputs": [],
   "source": []
  }
 ],
 "metadata": {
  "kernelspec": {
   "display_name": "Python 3",
   "language": "python",
   "name": "python3"
  },
  "language_info": {
   "codemirror_mode": {
    "name": "ipython",
    "version": 3
   },
   "file_extension": ".py",
   "mimetype": "text/x-python",
   "name": "python",
   "nbconvert_exporter": "python",
   "pygments_lexer": "ipython3",
   "version": "3.9.13"
  }
 },
 "nbformat": 4,
 "nbformat_minor": 2
}
