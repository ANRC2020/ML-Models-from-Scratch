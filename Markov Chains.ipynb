{
 "cells": [
  {
   "cell_type": "code",
   "execution_count": 1,
   "metadata": {},
   "outputs": [],
   "source": [
    "import numpy as np\n",
    "import torch\n",
    "import sympy\n",
    "import random as rand\n",
    "import matplotlib.pyplot as plt"
   ]
  },
  {
   "cell_type": "code",
   "execution_count": 2,
   "metadata": {},
   "outputs": [],
   "source": [
    "def get_pi_vec(m):\n",
    "\n",
    "    num_row = m.size()[0]\n",
    "    num_col = m.size()[1]    \n",
    "\n",
    "    temp = np.transpose(m) - np.identity(num_row)\n",
    "\n",
    "    temp[num_row - 1,:] = 1\n",
    "\n",
    "    zeros = np.zeros((num_row,1))\n",
    "    zeros[-1] = 1\n",
    "\n",
    "    temp = np.hstack((temp, zeros))\n",
    "\n",
    "    M = sympy.Matrix(temp)\n",
    "        \n",
    "    temp = M.rref()[0]\n",
    "\n",
    "    return temp[:, num_col]\n",
    "\n"
   ]
  },
  {
   "cell_type": "code",
   "execution_count": 3,
   "metadata": {},
   "outputs": [
    {
     "name": "stdout",
     "output_type": "stream",
     "text": [
      "tensor([[0.2500, 0.4000, 0.1000, 0.2500],\n",
      "        [0.2000, 0.3000, 0.2000, 0.3000],\n",
      "        [0.1000, 0.3000, 0.4400, 0.1600],\n",
      "        [0.1000, 0.2300, 0.3700, 0.3000]])\n"
     ]
    }
   ],
   "source": [
    "# Let's define an arbritrary Markov Chain to see how to conduct the basics\n",
    "\n",
    "m = torch.tensor([[.25, .4, .1, .25], [.2, .3, .2, .3], [.1, .3, .44, .16], [.1, .23, .37, .3]])\n",
    "\n",
    "print(m)"
   ]
  },
  {
   "cell_type": "code",
   "execution_count": 4,
   "metadata": {},
   "outputs": [
    {
     "name": "stdout",
     "output_type": "stream",
     "text": [
      "tensor([[0.1527, 0.2977, 0.2991, 0.2505],\n",
      "        [0.1527, 0.2977, 0.2991, 0.2505],\n",
      "        [0.1527, 0.2977, 0.2991, 0.2505],\n",
      "        [0.1527, 0.2977, 0.2991, 0.2505]])\n"
     ]
    }
   ],
   "source": [
    "temp = m\n",
    "\n",
    "for i in range(100):\n",
    "    temp = torch.matmul(temp,m)\n",
    "\n",
    "print(temp)"
   ]
  },
  {
   "cell_type": "code",
   "execution_count": 5,
   "metadata": {},
   "outputs": [],
   "source": [
    "pi_vec = get_pi_vec(m)"
   ]
  },
  {
   "cell_type": "code",
   "execution_count": 6,
   "metadata": {},
   "outputs": [
    {
     "data": {
      "text/plain": [
       "[0.152674472695713, 0.297733000850855, 0.299100305186729, 0.250492221266704]"
      ]
     },
     "execution_count": 6,
     "metadata": {},
     "output_type": "execute_result"
    }
   ],
   "source": [
    "pi_vec[:]"
   ]
  },
  {
   "cell_type": "markdown",
   "metadata": {},
   "source": [
    "Now that we have set up our machinery, its time to look into how we can leverge it to track sequences of numbes and generate trends"
   ]
  },
  {
   "cell_type": "code",
   "execution_count": 7,
   "metadata": {},
   "outputs": [
    {
     "data": {
      "text/plain": [
       "[<matplotlib.lines.Line2D at 0x1a01fceb580>]"
      ]
     },
     "execution_count": 7,
     "metadata": {},
     "output_type": "execute_result"
    },
    {
     "data": {
      "image/png": "[encoded data removed]",
      "text/plain": [
       "<Figure size 432x288 with 1 Axes>"
      ]
     },
     "metadata": {
      "needs_background": "light"
     },
     "output_type": "display_data"
    }
   ],
   "source": [
    "# Set up random number sequences\n",
    "\n",
    "x_points = []\n",
    "y_points = []\n",
    "\n",
    "price = 10\n",
    "\n",
    "for i in range(1000):\n",
    "    x_points.append(i)\n",
    "\n",
    "    if rand.randrange(0, 2) == 0:\n",
    "        if price != 0:\n",
    "            y_points.append(price - 1)\n",
    "            price -= 1\n",
    "        else:\n",
    "            y_points.append(price)\n",
    "    else:\n",
    "        y_points.append(price + 1)\n",
    "        price += 1\n",
    "\n",
    "plt.plot(x_points, y_points)"
   ]
  },
  {
   "cell_type": "code",
   "execution_count": 40,
   "metadata": {},
   "outputs": [
    {
     "data": {
      "text/plain": [
       "array([[ 3.,  4.],\n",
       "       [ 3., 89.]])"
      ]
     },
     "execution_count": 40,
     "metadata": {},
     "output_type": "execute_result"
    }
   ],
   "source": [
    "# Let's create a new Markov Chain for identifying trends\n",
    "\n",
    "# Markov Chain Layout:\n",
    "# \n",
    "#          Up    Down \n",
    "#  Up   |             \n",
    "#  Down |            \n",
    "\n",
    "gator = np.array([[0.0,0.0],[0.0,0.0]])\n",
    "\n",
    "prev_price = 0\n",
    "prev_state = -1\n",
    "curr_state = -1\n",
    "\n",
    "for i in range(100, 200):\n",
    "\n",
    "    # Use the first state to initialze the Markov Chain\n",
    "    if i == 0:\n",
    "        prev_price = y_points[i]\n",
    "        continue\n",
    "\n",
    "    if prev_price < y_points[i]:\n",
    "        curr_state = 1\n",
    "\n",
    "        if prev_state != -1 and curr_state != -1:\n",
    "            gator[prev_state, curr_state] += 1\n",
    "\n",
    "        prev_state = curr_state\n",
    "\n",
    "    else:\n",
    "        curr_state = 0\n",
    "\n",
    "        if prev_state != -1 and curr_state != -1:\n",
    "            gator[prev_state, curr_state] += 1\n",
    "\n",
    "        prev_state = curr_state\n",
    "\n",
    "gator"
   ]
  },
  {
   "cell_type": "code",
   "execution_count": 41,
   "metadata": {},
   "outputs": [],
   "source": [
    "num_row = gator.shape[0]\n",
    "num_col = gator.shape[1]"
   ]
  },
  {
   "cell_type": "code",
   "execution_count": 42,
   "metadata": {},
   "outputs": [],
   "source": [
    "for i in range(num_row):\n",
    "    gator[i] = np.array([value / float(sum(gator[i])) for value in gator[i]])"
   ]
  },
  {
   "cell_type": "code",
   "execution_count": 43,
   "metadata": {},
   "outputs": [
    {
     "data": {
      "text/plain": [
       "array([[0.42857143, 0.57142857],\n",
       "       [0.0326087 , 0.9673913 ]])"
      ]
     },
     "execution_count": 43,
     "metadata": {},
     "output_type": "execute_result"
    }
   ],
   "source": [
    "gator"
   ]
  },
  {
   "cell_type": "code",
   "execution_count": 44,
   "metadata": {},
   "outputs": [],
   "source": [
    "gator_pi = get_pi_vec(torch.from_numpy(gator))"
   ]
  },
  {
   "cell_type": "code",
   "execution_count": 45,
   "metadata": {},
   "outputs": [
    {
     "data": {
      "text/plain": [
       "[0.0539845758354756, 0.946015424164524]"
      ]
     },
     "execution_count": 45,
     "metadata": {},
     "output_type": "execute_result"
    }
   ],
   "source": [
    "gator_pi[:]"
   ]
  },
  {
   "cell_type": "code",
   "execution_count": 46,
   "metadata": {},
   "outputs": [
    {
     "data": {
      "text/plain": [
       "[<matplotlib.lines.Line2D at 0x1a0231075b0>]"
      ]
     },
     "execution_count": 46,
     "metadata": {},
     "output_type": "execute_result"
    },
    {
     "data": {
      "image/png": "[encoded data removed]",
      "text/plain": [
       "<Figure size 432x288 with 1 Axes>"
      ]
     },
     "metadata": {
      "needs_background": "light"
     },
     "output_type": "display_data"
    }
   ],
   "source": [
    "plt.plot(x_points[100:200], y_points[100:200])"
   ]
  },
  {
   "cell_type": "code",
   "execution_count": 69,
   "metadata": {},
   "outputs": [],
   "source": [
    "from yahoofinancials import YahooFinancials\n",
    "\n",
    "yf = YahooFinancials('AAPL')\n",
    "\n",
    "hist_data = yf.get_historical_price_data('2020-01-01', '2024-01-01', 'daily')"
   ]
  },
  {
   "cell_type": "code",
   "execution_count": 70,
   "metadata": {},
   "outputs": [],
   "source": [
    "day = []\n",
    "stock_prices = []\n",
    "\n",
    "for i, price in enumerate(hist_data['AAPL']['prices']):\n",
    "    stock_prices.append(price['open'])\n",
    "    day.append(i)"
   ]
  },
  {
   "cell_type": "code",
   "execution_count": 71,
   "metadata": {},
   "outputs": [
    {
     "data": {
      "text/plain": [
       "[<matplotlib.lines.Line2D at 0x1a02503a490>]"
      ]
     },
     "execution_count": 71,
     "metadata": {},
     "output_type": "execute_result"
    },
    {
     "data": {
      "image/png": "[encoded data removed]",
      "text/plain": [
       "<Figure size 432x288 with 1 Axes>"
      ]
     },
     "metadata": {
      "needs_background": "light"
     },
     "output_type": "display_data"
    }
   ],
   "source": [
    "plt.plot(day, stock_prices)"
   ]
  },
  {
   "cell_type": "code",
   "execution_count": 89,
   "metadata": {},
   "outputs": [
    {
     "data": {
      "text/plain": [
       "array([[ 45.,   3.],\n",
       "       [  3., 147.]])"
      ]
     },
     "execution_count": 89,
     "metadata": {},
     "output_type": "execute_result"
    }
   ],
   "source": [
    "# Let's create a new Markov Chain for identifying trends\n",
    "\n",
    "# Markov Chain Layout:\n",
    "# \n",
    "#          Up    Down \n",
    "#  Up   |             \n",
    "#  Down |            \n",
    "\n",
    "gator = np.array([[0.0,0.0],[0.0,0.0]])\n",
    "\n",
    "prev_price = 0\n",
    "prev_state = -1\n",
    "curr_state = -1\n",
    "\n",
    "for i in range(0, 200):\n",
    "\n",
    "    # Use the first state to initialze the Markov Chain\n",
    "    if i == 0:\n",
    "        prev_price = stock_prices[i]\n",
    "        continue\n",
    "\n",
    "    if prev_price < stock_prices[i]:\n",
    "        curr_state = 1\n",
    "\n",
    "        if prev_state != -1 and curr_state != -1:\n",
    "            gator[prev_state, curr_state] += 1\n",
    "\n",
    "        prev_state = curr_state\n",
    "\n",
    "    else:\n",
    "        curr_state = 0\n",
    "\n",
    "        if prev_state != -1 and curr_state != -1:\n",
    "            gator[prev_state, curr_state] += 1\n",
    "\n",
    "        prev_state = curr_state\n",
    "\n",
    "gator"
   ]
  },
  {
   "cell_type": "code",
   "execution_count": 90,
   "metadata": {},
   "outputs": [],
   "source": [
    "num_row = gator.shape[0]\n",
    "num_col = gator.shape[1]"
   ]
  },
  {
   "cell_type": "code",
   "execution_count": 91,
   "metadata": {},
   "outputs": [],
   "source": [
    "for i in range(num_row):\n",
    "    gator[i] = np.array([value / float(sum(gator[i])) for value in gator[i]])"
   ]
  },
  {
   "cell_type": "code",
   "execution_count": 92,
   "metadata": {},
   "outputs": [
    {
     "data": {
      "text/plain": [
       "[0.242424242424242, 0.757575757575758]"
      ]
     },
     "execution_count": 92,
     "metadata": {},
     "output_type": "execute_result"
    }
   ],
   "source": [
    "gator_pi = get_pi_vec(torch.from_numpy(gator))\n",
    "\n",
    "gator_pi[:]"
   ]
  },
  {
   "cell_type": "code",
   "execution_count": 93,
   "metadata": {},
   "outputs": [
    {
     "data": {
      "text/plain": [
       "[<matplotlib.lines.Line2D at 0x1a022d96dc0>]"
      ]
     },
     "execution_count": 93,
     "metadata": {},
     "output_type": "execute_result"
    },
    {
     "data": {
      "image/png": "[encoded data removed]",
      "text/plain": [
       "<Figure size 432x288 with 1 Axes>"
      ]
     },
     "metadata": {
      "needs_background": "light"
     },
     "output_type": "display_data"
    }
   ],
   "source": [
    "plt.plot(day[0:200], stock_prices[0:200])"
   ]
  },
  {
   "cell_type": "code",
   "execution_count": null,
   "metadata": {},
   "outputs": [],
   "source": []
  }
 ],
 "metadata": {
  "kernelspec": {
   "display_name": "Python 3",
   "language": "python",
   "name": "python3"
  },
  "language_info": {
   "codemirror_mode": {
    "name": "ipython",
    "version": 3
   },
   "file_extension": ".py",
   "mimetype": "text/x-python",
   "name": "python",
   "nbconvert_exporter": "python",
   "pygments_lexer": "ipython3",
   "version": "3.9.13"
  }
 },
 "nbformat": 4,
 "nbformat_minor": 2
}
